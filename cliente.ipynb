{
 "cells": [
  {
   "cell_type": "code",
   "execution_count": 10,
   "metadata": {},
   "outputs": [],
   "source": [
    "import panel as pn\n",
    "import pandas as pd\n",
    "from sqlalchemy import create_engine, text\n",
    "from sqlalchemy.exc import SQLAlchemyError\n",
    "db_config = {\n",
    "    'user': 'postgres',\n",
    "    'password': '1412',\n",
    "    'host': 'localhost',\n",
    "    'port': '5432',\n",
    "    'database': 'Gerenciamento_Remedios'\n",
    "}\n",
    "\n",
    "\n",
    "engine = create_engine(f\"postgresql+psycopg2://{db_config['user']}:{db_config['password']}@{db_config['host']}:{db_config['port']}/{db_config['database']}\")\n",
    "con = engine.connect()\n",
    "\n"
   ]
  },
  {
   "cell_type": "code",
   "execution_count": 11,
   "metadata": {},
   "outputs": [],
   "source": [
    "\n",
    "def read_clientes(id_cliente=None, nome_cliente=None):\n",
    "    try:\n",
    "        if id_cliente is not None:\n",
    "            query = text(\"SELECT * FROM farmacia.cliente WHERE id_cliente = :id_cliente\")\n",
    "            df = pd.read_sql(query, con, params={\"id_cliente\": id_cliente})\n",
    "        elif nome_cliente is not None:\n",
    "            query = text(\"SELECT * FROM farmacia.cliente WHERE nome_cliente ILIKE :nome_cliente\")\n",
    "            df = pd.read_sql(query, con, params={\"nome_cliente\": f\"%{nome_cliente}%\"})\n",
    "        else:\n",
    "            query = \"SELECT * FROM farmacia.cliente\"\n",
    "            df = pd.read_sql(query, con)\n",
    "        return df\n",
    "    except SQLAlchemyError as e:\n",
    "        return str(e)\n",
    "\n",
    "\n",
    "def create_cliente(nome_cliente, cpf, endereco_rua, endereco_numero, endereco_bairro, endereco_cidade):\n",
    "    try:\n",
    "        query = text(\"\"\"\n",
    "            INSERT INTO farmacia.cliente \n",
    "            (nome_cliente, cpf, endereco_rua, endereco_numero, endereco_bairro, endereco_cidade)\n",
    "            VALUES (:nome_cliente, :cpf, :endereco_rua, :endereco_numero, :endereco_bairro, :endereco_cidade)\n",
    "        \"\"\")\n",
    "        con.execute(query, {\n",
    "            \"nome_cliente\": nome_cliente,\n",
    "            \"cpf\": cpf,\n",
    "            \"endereco_rua\": endereco_rua,\n",
    "            \"endereco_numero\": endereco_numero,\n",
    "            \"endereco_bairro\": endereco_bairro,\n",
    "            \"endereco_cidade\": endereco_cidade\n",
    "        })\n",
    "        con.commit()\n",
    "        return \"Cliente adicionado com sucesso!\"\n",
    "    except SQLAlchemyError as e:\n",
    "        return str(e)\n",
    "\n",
    "\n",
    "def update_cliente(id_cliente, nome_cliente, cpf, endereco_rua, endereco_numero, endereco_bairro, endereco_cidade):\n",
    "    try:\n",
    "        query = text(\"\"\"\n",
    "            UPDATE farmacia.cliente \n",
    "            SET nome_cliente = :nome_cliente, cpf = :cpf, endereco_rua = :endereco_rua, \n",
    "                endereco_numero = :endereco_numero, endereco_bairro = :endereco_bairro, \n",
    "                endereco_cidade = :endereco_cidade \n",
    "            WHERE id_cliente = :id_cliente\n",
    "        \"\"\")\n",
    "        con.execute(query, {\n",
    "            \"id_cliente\": id_cliente,\n",
    "            \"nome_cliente\": nome_cliente,\n",
    "            \"cpf\": cpf,\n",
    "            \"endereco_rua\": endereco_rua,\n",
    "            \"endereco_numero\": endereco_numero,\n",
    "            \"endereco_bairro\": endereco_bairro,\n",
    "            \"endereco_cidade\": endereco_cidade\n",
    "        })\n",
    "        con.commit()\n",
    "        return \"Cliente atualizado com sucesso!\"\n",
    "    except SQLAlchemyError as e:\n",
    "        return str(e)\n",
    "\n",
    "def delete_cliente(id_cliente):\n",
    "    try:\n",
    "        query = text(\"DELETE FROM farmacia.cliente WHERE id_cliente = :id_cliente\")\n",
    "        con.execute(query, {\"id_cliente\": id_cliente})\n",
    "        con.commit()\n",
    "        return \"Cliente excluído com sucesso!\"\n",
    "    except SQLAlchemyError as e:\n",
    "        return str(e)\n"
   ]
  },
  {
   "cell_type": "code",
   "execution_count": 12,
   "metadata": {},
   "outputs": [],
   "source": [
    "\n",
    "def update_table(id_cliente=None, nome_cliente=None):\n",
    "    df = read_clientes(id_cliente, nome_cliente)\n",
    "    table.value = df\n",
    "\n",
    "def on_filter_button_click(event):\n",
    "    id_filter = id_filter_input.value if id_filter_input.value else None\n",
    "    nome_filter = nome_filter_input.value if nome_filter_input.value else None\n",
    "    update_table(id_cliente=id_filter, nome_cliente=nome_filter)\n",
    "    output_pane.object = \"Tabela atualizada com base no filtro.\"\n"
   ]
  },
  {
   "cell_type": "code",
   "execution_count": 13,
   "metadata": {},
   "outputs": [
    {
     "data": {
      "text/plain": [
       "Watcher(inst=Button(button_type='primary', name='Aplicar Filtro'), cls=<class 'panel.widgets.button.Button'>, fn=<function on_filter_button_click at 0x00000216974E11C0>, mode='args', onlychanged=False, parameter_names=('clicks',), what='value', queued=False, precedence=0)"
      ]
     },
     "execution_count": 13,
     "metadata": {},
     "output_type": "execute_result"
    }
   ],
   "source": [
    "\n",
    "id_filter_input = pn.widgets.IntInput(name='Filtrar por ID', width=150)\n",
    "nome_filter_input = pn.widgets.TextInput(name='Filtrar por Nome', placeholder='Nome do Cliente', width=300)\n",
    "filter_button = pn.widgets.Button(name='Aplicar Filtro', button_type='primary')\n",
    "\n",
    "filter_button.on_click(on_filter_button_click)\n"
   ]
  },
  {
   "cell_type": "code",
   "execution_count": 14,
   "metadata": {},
   "outputs": [
    {
     "data": {
      "text/plain": [
       "Watcher(inst=Button(button_type='primary', name='Adicionar Cliente'), cls=<class 'panel.widgets.button.Button'>, fn=<function on_create_button_click at 0x00000216B2B177E0>, mode='args', onlychanged=False, parameter_names=('clicks',), what='value', queued=False, precedence=0)"
      ]
     },
     "execution_count": 14,
     "metadata": {},
     "output_type": "execute_result"
    }
   ],
   "source": [
    "\n",
    "nome_input = pn.widgets.TextInput(name='Nome', placeholder='Nome do Cliente', width=300)\n",
    "cpf_input = pn.widgets.TextInput(name='CPF', placeholder='CPF do Cliente', width=150)\n",
    "endereco_rua_input = pn.widgets.TextInput(name='Endereço - Rua', placeholder='Rua', width=300)\n",
    "endereco_numero_input = pn.widgets.IntInput(name='Endereço - Número', width=150)\n",
    "endereco_bairro_input = pn.widgets.TextInput(name='Endereço - Bairro', placeholder='Bairro', width=300)\n",
    "endereco_cidade_input = pn.widgets.TextInput(name='Endereço - Cidade', placeholder='Cidade', width=300)\n",
    "create_button = pn.widgets.Button(name='Adicionar Cliente', button_type='primary')\n",
    "\n",
    " \n",
    "def on_create_button_click(event):\n",
    "    message = create_cliente(\n",
    "        nome_input.value, cpf_input.value, endereco_rua_input.value, \n",
    "        endereco_numero_input.value, endereco_bairro_input.value, endereco_cidade_input.value\n",
    "    )\n",
    "    update_table()\n",
    "    output_pane.object = message\n",
    "\n",
    "create_button.on_click(on_create_button_click)\n"
   ]
  },
  {
   "cell_type": "code",
   "execution_count": 15,
   "metadata": {},
   "outputs": [
    {
     "data": {
      "text/plain": [
       "Watcher(inst=Button(button_type='warning', name='Atualizar Cliente'), cls=<class 'panel.widgets.button.Button'>, fn=<function on_update_button_click at 0x00000216B22F5940>, mode='args', onlychanged=False, parameter_names=('clicks',), what='value', queued=False, precedence=0)"
      ]
     },
     "execution_count": 15,
     "metadata": {},
     "output_type": "execute_result"
    }
   ],
   "source": [
    "\n",
    "id_input = pn.widgets.IntInput(name='ID do Cliente', width=150)\n",
    "update_nome_input = pn.widgets.TextInput(name='Novo Nome', placeholder='Novo Nome do Cliente', width=300)\n",
    "update_cpf_input = pn.widgets.TextInput(name='Novo CPF', placeholder='Novo CPF', width=150)\n",
    "update_endereco_rua_input = pn.widgets.TextInput(name='Nova Rua', placeholder='Nova Rua', width=300)\n",
    "update_endereco_numero_input = pn.widgets.IntInput(name='Novo Número', width=150)\n",
    "update_endereco_bairro_input = pn.widgets.TextInput(name='Novo Bairro', placeholder='Novo Bairro', width=300)\n",
    "update_endereco_cidade_input = pn.widgets.TextInput(name='Nova Cidade', placeholder='Nova Cidade', width=300)\n",
    "update_button = pn.widgets.Button(name='Atualizar Cliente', button_type='warning')\n",
    "\n",
    "def on_update_button_click(event):\n",
    "    message = update_cliente(\n",
    "        id_input.value, update_nome_input.value, update_cpf_input.value, \n",
    "        update_endereco_rua_input.value, update_endereco_numero_input.value, \n",
    "        update_endereco_bairro_input.value, update_endereco_cidade_input.value\n",
    "    )\n",
    "    update_table()\n",
    "    output_pane.object = message\n",
    "\n",
    "update_button.on_click(on_update_button_click)\n"
   ]
  },
  {
   "cell_type": "code",
   "execution_count": 16,
   "metadata": {},
   "outputs": [
    {
     "data": {
      "text/plain": [
       "Watcher(inst=Button(button_type='danger', name='Excluir Cliente'), cls=<class 'panel.widgets.button.Button'>, fn=<function on_delete_button_click at 0x00000216B22F65C0>, mode='args', onlychanged=False, parameter_names=('clicks',), what='value', queued=False, precedence=0)"
      ]
     },
     "execution_count": 16,
     "metadata": {},
     "output_type": "execute_result"
    }
   ],
   "source": [
    "\n",
    "delete_id_input = pn.widgets.IntInput(name='ID do Cliente para Excluir', width=150)\n",
    "delete_button = pn.widgets.Button(name='Excluir Cliente', button_type='danger')\n",
    "\n",
    " \n",
    "def on_delete_button_click(event):\n",
    "    message = delete_cliente(delete_id_input.value)\n",
    "    update_table()\n",
    "    output_pane.object = message\n",
    "\n",
    "delete_button.on_click(on_delete_button_click)\n"
   ]
  },
  {
   "cell_type": "code",
   "execution_count": 17,
   "metadata": {},
   "outputs": [],
   "source": [
    "\n",
    "table = pn.widgets.DataFrame(read_clientes(), name='Tabela de Clientes', width=600)\n",
    "output_pane = pn.pane.Markdown(\"Mensagens aparecerão aqui\", width=600)\n"
   ]
  },
  {
   "cell_type": "code",
   "execution_count": 18,
   "metadata": {},
   "outputs": [
    {
     "name": "stdout",
     "output_type": "stream",
     "text": [
      "Launching server at http://localhost:60040\n"
     ]
    },
    {
     "data": {
      "text/plain": [
       "<panel.io.server.Server at 0x216b2ba6f90>"
      ]
     },
     "execution_count": 18,
     "metadata": {},
     "output_type": "execute_result"
    }
   ],
   "source": [
    "\n",
    "layout = pn.Column(\n",
    "    pn.pane.Markdown(\"# Gerenciamento de Clientes\", sizing_mode='stretch_width'),\n",
    "    pn.Row(\n",
    "        pn.Column(id_filter_input, nome_filter_input, filter_button),\n",
    "        sizing_mode='stretch_width'\n",
    "    ),\n",
    "    pn.Row(\n",
    "        pn.Column(nome_input, cpf_input, endereco_rua_input, endereco_numero_input, endereco_bairro_input, endereco_cidade_input, create_button),\n",
    "        sizing_mode='stretch_width'\n",
    "    ),\n",
    "    pn.Row(\n",
    "        pn.Column(id_input, update_nome_input, update_cpf_input, update_endereco_rua_input, update_endereco_numero_input, update_endereco_bairro_input, update_endereco_cidade_input, update_button),\n",
    "        sizing_mode='stretch_width'\n",
    "    ),\n",
    "    pn.Row(\n",
    "        pn.Column(delete_id_input, delete_button),\n",
    "        sizing_mode='stretch_width'\n",
    "    ),\n",
    "    table,\n",
    "    output_pane,\n",
    "    sizing_mode='stretch_width'\n",
    ")\n",
    "\n",
    "layout.show()\n"
   ]
  }
 ],
 "metadata": {
  "kernelspec": {
   "display_name": "Python 3",
   "language": "python",
   "name": "python3"
  },
  "language_info": {
   "codemirror_mode": {
    "name": "ipython",
    "version": 3
   },
   "file_extension": ".py",
   "mimetype": "text/x-python",
   "name": "python",
   "nbconvert_exporter": "python",
   "pygments_lexer": "ipython3",
   "version": "3.11.9"
  }
 },
 "nbformat": 4,
 "nbformat_minor": 2
}
